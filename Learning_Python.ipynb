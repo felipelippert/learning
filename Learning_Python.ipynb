{
  "nbformat": 4,
  "nbformat_minor": 0,
  "metadata": {
    "colab": {
      "provenance": [],
      "toc_visible": true,
      "authorship_tag": "ABX9TyPHnmzbpTPf7TsOel232WKF",
      "include_colab_link": true
    },
    "kernelspec": {
      "name": "python3",
      "display_name": "Python 3"
    },
    "language_info": {
      "name": "python"
    }
  },
  "cells": [
    {
      "cell_type": "markdown",
      "metadata": {
        "id": "view-in-github",
        "colab_type": "text"
      },
      "source": [
        "<a href=\"https://colab.research.google.com/github/felipelippert/learning/blob/main/Learning_Python.ipynb\" target=\"_parent\"><img src=\"https://colab.research.google.com/assets/colab-badge.svg\" alt=\"Open In Colab\"/></a>"
      ]
    },
    {
      "cell_type": "markdown",
      "source": [
        "# Métodos\n"
      ],
      "metadata": {
        "id": "Ogyl8XXqxYSO"
      }
    },
    {
      "cell_type": "code",
      "source": [
        "endereco = 'Rua Guerino Boff, 100, Torres, Rio Grande do Sul, Brasil'"
      ],
      "metadata": {
        "colab": {
          "base_uri": "https://localhost:8080/"
        },
        "id": "Xt7NY9skxejE",
        "outputId": "f8c1d377-1024-4487-f3df-11192f4a30e3"
      },
      "execution_count": 6,
      "outputs": [
        {
          "output_type": "stream",
          "name": "stdout",
          "text": [
            "Rua Guerino Boff, 100, Torres, Rio Grande do Sul, Brasil\n"
          ]
        }
      ]
    },
    {
      "cell_type": "code",
      "source": [
        "# maiusculas: string.upper()\n",
        "\n",
        "print(endereco.upper())"
      ],
      "metadata": {
        "colab": {
          "base_uri": "https://localhost:8080/"
        },
        "id": "u9-4XB4ExeUD",
        "outputId": "f8d05105-fed0-4ed2-edf0-acced1c44ba2"
      },
      "execution_count": 10,
      "outputs": [
        {
          "output_type": "stream",
          "name": "stdout",
          "text": [
            "RUA GUERINO BOFF, 100, TORRES, RIO GRANDE DO SUL, BRASIL\n"
          ]
        }
      ]
    },
    {
      "cell_type": "code",
      "source": [
        "# minuscula: string.lower()\n",
        "\n",
        "print(endereco.lower())"
      ],
      "metadata": {
        "colab": {
          "base_uri": "https://localhost:8080/"
        },
        "id": "vT8CAJWLxeDs",
        "outputId": "56927469-4c0b-476c-e23e-19c4b96341fd"
      },
      "execution_count": 11,
      "outputs": [
        {
          "output_type": "stream",
          "name": "stdout",
          "text": [
            "rua guerino boff, 100, torres, rio grande do sul, brasil\n"
          ]
        }
      ]
    },
    {
      "cell_type": "code",
      "source": [
        "# posição: string.find(substring)\n",
        "\n",
        "posicao = endereco.find('Brasil')\n",
        "\n",
        "print(posicao)"
      ],
      "metadata": {
        "colab": {
          "base_uri": "https://localhost:8080/"
        },
        "id": "JDJZDBXsywPq",
        "outputId": "6bfd2ddb-722b-419e-a9c5-f4bf8b3cabe2"
      },
      "execution_count": 13,
      "outputs": [
        {
          "output_type": "stream",
          "name": "stdout",
          "text": [
            "50\n"
          ]
        }
      ]
    },
    {
      "cell_type": "code",
      "source": [
        "# substituição: string.replace('antigo', 'novo')\n",
        "\n",
        "print(endereco.replace('Rua', 'R'))"
      ],
      "metadata": {
        "colab": {
          "base_uri": "https://localhost:8080/"
        },
        "id": "2z-WvYbrzPLP",
        "outputId": "2b8f65af-116a-479e-a4f6-9a468375b9a5"
      },
      "execution_count": 14,
      "outputs": [
        {
          "output_type": "stream",
          "name": "stdout",
          "text": [
            "R Guerino Boff, 100, Torres, Rio Grande do Sul, Brasil\n"
          ]
        }
      ]
    },
    {
      "cell_type": "markdown",
      "source": [
        "# Conversão\n"
      ],
      "metadata": {
        "id": "r1MqKjLd0L27"
      }
    },
    {
      "cell_type": "code",
      "source": [
        "idade = 27\n",
        "print(type(idade))\n",
        "\n",
        "idade = str(idade)\n",
        "print(type(idade))"
      ],
      "metadata": {
        "colab": {
          "base_uri": "https://localhost:8080/"
        },
        "id": "sgJLzQBV0SwN",
        "outputId": "7ffb7ddd-0ab9-4a39-a5dd-f8ada347d606"
      },
      "execution_count": 17,
      "outputs": [
        {
          "output_type": "stream",
          "name": "stdout",
          "text": [
            "<class 'int'>\n",
            "<class 'str'>\n"
          ]
        }
      ]
    },
    {
      "cell_type": "code",
      "source": [
        "faturamento = 'R$ 35 mi'\n",
        "print(faturamento)\n",
        "print(type(faturamento))\n",
        "\n",
        "faturamento = int(faturamento[3:5])\n",
        "print(faturamento)\n",
        "print(type(faturamento))"
      ],
      "metadata": {
        "colab": {
          "base_uri": "https://localhost:8080/"
        },
        "id": "55EGW9960uF1",
        "outputId": "50be400e-3095-40ce-cacb-d73ecf004a53"
      },
      "execution_count": 21,
      "outputs": [
        {
          "output_type": "stream",
          "name": "stdout",
          "text": [
            "R$ 35 mi\n",
            "<class 'str'>\n",
            "35\n",
            "<class 'int'>\n"
          ]
        }
      ]
    },
    {
      "cell_type": "code",
      "source": [
        "latlon = '562 ; 730'\n",
        "print(latlon)"
      ],
      "metadata": {
        "colab": {
          "base_uri": "https://localhost:8080/"
        },
        "id": "AzA2UBw04YvH",
        "outputId": "a3c76350-9ebb-4816-8f44-04483d895801"
      },
      "execution_count": 22,
      "outputs": [
        {
          "output_type": "stream",
          "name": "stdout",
          "text": [
            "562 ; 730\n"
          ]
        }
      ]
    },
    {
      "cell_type": "code",
      "source": [
        "posicao_char_divisao = latlon.find(';')\n",
        "print(posicao_char_divisao)"
      ],
      "metadata": {
        "colab": {
          "base_uri": "https://localhost:8080/"
        },
        "id": "7R7ErDmY5876",
        "outputId": "f4b68935-0fb5-4c56-aaca-309da6c2621e"
      },
      "execution_count": 23,
      "outputs": [
        {
          "output_type": "stream",
          "name": "stdout",
          "text": [
            "4\n"
          ]
        }
      ]
    },
    {
      "cell_type": "code",
      "source": [
        "lat = latlon[0:posicao_char_divisao]\n",
        "print(lat)"
      ],
      "metadata": {
        "colab": {
          "base_uri": "https://localhost:8080/"
        },
        "id": "aDVMud546K3n",
        "outputId": "fc59f891-9926-47b7-f49f-841517aaaaca"
      },
      "execution_count": 24,
      "outputs": [
        {
          "output_type": "stream",
          "name": "stdout",
          "text": [
            "562 \n"
          ]
        }
      ]
    },
    {
      "cell_type": "code",
      "source": [
        "lon = latlon[posicao_char_divisao + 1 : len(latlon)]\n",
        "print(lon)"
      ],
      "metadata": {
        "colab": {
          "base_uri": "https://localhost:8080/"
        },
        "id": "SbNPJaHF6gLZ",
        "outputId": "96f6df6c-f77a-4bfc-f040-9e846b289910"
      },
      "execution_count": 25,
      "outputs": [
        {
          "output_type": "stream",
          "name": "stdout",
          "text": [
            " 730\n"
          ]
        }
      ]
    },
    {
      "cell_type": "code",
      "source": [],
      "metadata": {
        "id": "Cx6GMjWC6xAb"
      },
      "execution_count": null,
      "outputs": []
    }
  ]
}